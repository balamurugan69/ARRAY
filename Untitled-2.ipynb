{
 "cells": [
  {
   "cell_type": "code",
   "execution_count": 3,
   "metadata": {},
   "outputs": [],
   "source": [
    "i = [10,501,22,37,100,999,87,351]\n",
    "def Split(mix):\n",
    "    ev_li = []\n",
    "    od_li = []\n",
    "    for i in mix:\n",
    "        if (i % 2 == 0):\n",
    "            ev_li.append(i)\n",
    "        else:\n",
    "            od_li.append(i)\n",
    "    print(\"Even lists:\", ev_li)\n",
    "    print(\"Odd lists:\", od_li)"
   ]
  },
  {
   "cell_type": "code",
   "execution_count": null,
   "metadata": {},
   "outputs": [],
   "source": [
    "def findMin(arr, N): \n",
    "      \n",
    "    min_ele = arr[0]; \n",
    "  \n",
    "    for i in range(N) : \n",
    "        if arr[i] < min_ele : \n",
    "            min_ele = arr[i] \n",
    "  \n",
    "    return min_ele; \n",
    "\n",
    "arr = [5, 6, 1, 2, 3, 4] \n",
    "N = len(arr) \n",
    "  \n",
    "print(findMin(arr,N)) "
   ]
  },
  {
   "cell_type": "code",
   "execution_count": null,
   "metadata": {},
   "outputs": [],
   "source": [
    "ef find(a, n, summ):\n",
    "    print(\"Triplets are: \")\n",
    "    for i in range(0, n - 2):\n",
    "        for j in range(i + 1, n - 1):\n",
    "            for k in range(j + 1, n):\n",
    "                if (a[i] + a[j] + a[k]) == summ:\n",
    "                    print(a[i], a[j], a[k])\n",
    "\n",
    "\n",
    "array = [10, 20, 30, 9]\n",
    "summ = 59\n",
    "\n",
    "find(array, len(array), summ)"
   ]
  },
  {
   "cell_type": "code",
   "execution_count": 6,
   "metadata": {},
   "outputs": [],
   "source": [
    "def prime(x, y):\n",
    "    prime_list = [10,501,22,37,100,999,87,351]\n",
    "    for i in range(x, y):\n",
    "        if i == 0 or i == 1:\n",
    "            continue\n",
    "        else:\n",
    "            for j in range(2, int(i/2)+1):\n",
    "                if i % j == 0:\n",
    "                    break\n",
    "            else:\n",
    "                prime_list.append(i)\n",
    "    return prime_list"
   ]
  },
  {
   "cell_type": "code",
   "execution_count": null,
   "metadata": {},
   "outputs": [],
   "source": [
    "a = [10,501,22,37,100,999,87,351]\n",
    "def is_happy(a):\n",
    "    for i in range (len(a)):\n",
    "        sum = a[i]\n",
    "        for digit in str(a[i]):\n",
    "             sum = 0\n",
    "        while sum != 1 and sum !=4:      \n",
    "                sum = sum + int(digit) ** 2\n",
    "        if sum ==1:\n",
    "                b.append(a[i])\n",
    "        return b\n",
    "print(is_happy(a))"
   ]
  },
  {
   "cell_type": "code",
   "execution_count": 1,
   "metadata": {},
   "outputs": [],
   "source": [
    "n = input(\"10,501,22,37,100,999,87,351\")\n",
    "\n",
    "#By loop \n",
    "\n",
    "if (n.isnumeric):\n",
    "    for i in range(len(n)):\n",
    "        if i == 0:\n",
    "            print(f\" your first digit of the number is {n[0]}\")\n",
    "        elif i== len(n)-1:\n",
    "            print(f\" your last digit of the number is {n[-1]}\")\n",
    "else:\n",
    "    print(\"Please enter a number and try again!\")"
   ]
  }
 ],
 "metadata": {
  "kernelspec": {
   "display_name": "Python 3",
   "language": "python",
   "name": "python3"
  },
  "language_info": {
   "codemirror_mode": {
    "name": "ipython",
    "version": 3
   },
   "file_extension": ".py",
   "mimetype": "text/x-python",
   "name": "python",
   "nbconvert_exporter": "python",
   "pygments_lexer": "ipython3",
   "version": "3.12.2"
  }
 },
 "nbformat": 4,
 "nbformat_minor": 2
}
